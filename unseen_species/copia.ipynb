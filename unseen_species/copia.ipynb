{
 "cells": [
  {
   "cell_type": "markdown",
   "id": "70a3844c",
   "metadata": {},
   "source": [
    "Ce notebook renvoie à la première partie :\n",
    "**« Vers une écologie des textes et des témoins : modélisation de leur perte et de leur survie  à l’aide d’outils issus de la biologie »**.\n"
   ]
  },
  {
   "cell_type": "markdown",
   "id": "5932b27c",
   "metadata": {},
   "source": [
    "# Partie I : Préparation du jeu de données "
   ]
  },
  {
   "cell_type": "markdown",
   "id": "18971eb0",
   "metadata": {},
   "source": [
    "On sépare notre jeu de données en deux sous-jeux de données : l'un comprend les textes en prose et l'autre les textes en forme versifiée (section 1.1)"
   ]
  },
  {
   "cell_type": "code",
   "execution_count": null,
   "id": "8697a8c1",
   "metadata": {},
   "outputs": [
    {
     "name": "stdout",
     "output_type": "stream",
     "text": [
      "   witSigla                                       witSignature witOrigDate  \\\n",
      "0       NaN  Paris, Bibliothèque Nationale de France, lat. ...     801-825   \n",
      "1  A'' (1a)  Paris, Bibliothèque Nationale de France, nouv....   1301-1400   \n",
      "2   A''(1b)  Paris, Bibliothèque Nationale de France,  lat....   1301-1400   \n",
      "3   A''(2a)  Paris, Bibliothèque Nationale de France,  lat....         NaN   \n",
      "4   A''(2b)      Bruxelles Bibliothèque royale de Belgique, 64     801-900   \n",
      "\n",
      "  Century_witOrigDate                 witOrigPlace    Status  \\\n",
      "0          IXe siècle  Lyon (Rhônes-Alpes, France)  survived   \n",
      "1         XIVe siècle                          NaN  survived   \n",
      "2         XIVe siècle                          NaN  survived   \n",
      "3                 NaN                          NaN  survived   \n",
      "4          IXe siècle                          NaN  survived   \n",
      "\n",
      "                         Witfoliation Notes workOrigDate  \\\n",
      "0                                 NaN   NaN          NaN   \n",
      "1                          f. 58r-60v   NaN          415   \n",
      "2                        f. 205v-206v   NaN          415   \n",
      "3  p. 271v-272v (ed. 1910, p 493-495)   NaN          415   \n",
      "4                        f. 145r-146v   NaN          415   \n",
      "\n",
      "  Century_WorkOriginDate workOrigPlace       workAuthor AuthorOrigPlace  \\\n",
      "0              Ve siècle           NaN       Agrestius            Spain   \n",
      "1              Ve siècle           NaN  Avitus de Braga        Portugal   \n",
      "2              Ve siècle           NaN  Avitus de Braga        Portugal   \n",
      "3              Ve siècle           NaN  Avitus de Braga        Portugal   \n",
      "4              Ve siècle           NaN  Avitus de Braga        Portugal   \n",
      "\n",
      "     workGenre workGeneralgenre  \\\n",
      "0  epic poetry           poetry   \n",
      "1   epistolary            prose   \n",
      "2   epistolary            prose   \n",
      "3   epistolary            prose   \n",
      "4   epistolary            prose   \n",
      "\n",
      "                                           workTitle  \\\n",
      "0                 Versus de fide ad Avitum episcopum   \n",
      "1  Epistula ad Palchonium episcopium Bracarensem ...   \n",
      "2  Epistula ad Palchonium episcopium Bracarensem ...   \n",
      "3  Epistula ad Palchonium episcopium Bracarensem ...   \n",
      "4  Epistula ad Palchonium episcopium Bracarensem ...   \n",
      "\n",
      "                                         workContent ReferenceCPL  \n",
      "0  Poem about  the beginnings of the World up to ...          NaN  \n",
      "1  Letter from Avitus to Bishop Palchonius of Bra...      CPL 575  \n",
      "2  Letter from Avitus to Bishop Palchonius of Bra...      CPL 575  \n",
      "3  Letter from Avitus to Bishop Palchonius of Bra...      CPL 575  \n",
      "4  Letter from Avitus to Bishop Palchonius of Bra...      CPL 575  \n",
      "Les fichiers ont été créés avec succès aux chemins suivants :\n",
      "Poetry: C:\\Users\\Guidi\\Desktop\\Ecole_Chartes\\Memoire\\data_copia\\poetry.xlsx\n",
      "Prose: C:\\Users\\Guidi\\Desktop\\Ecole_Chartes\\Memoire\\data_copia\\prose.xlsx\n"
     ]
    }
   ],
   "source": [
    "import pandas as pd\n",
    "\n",
    "# On charge le fichier Excel\n",
    "file_path = file_path = Path('../data/wits_table_tot.xlsx')\n",
    "df = pd.read_excel(file_path)  # Il manquait cette ligne pour charger le fichier Excel dans le DataFrame\n",
    "\n",
    "# On vérifie les premières lignes du fichier pour s'assurer des noms de colonnes\n",
    "print(df.head())\n",
    "\n",
    "# On filtre les manuscrits avec genre 'poetry'\n",
    "poetry_df = df[df['workGeneralgenre'] == 'poetry'][['witSignature', 'workTitle', 'workAuthor', 'workGeneralgenre']]\n",
    "\n",
    "# De même pour  les manuscrits avec genre 'prose'\n",
    "prose_df = df[df['workGeneralgenre'] == 'prose'][['witSignature', 'workTitle', 'workAuthor', 'workGeneralgenre']]\n",
    "\n",
    "# On définit le chemin de sortie\n",
    "output_dir = Path('../data')\n",
    "output_dir.mkdir(exist_ok=True)\n",
    "\n",
    "# On spécifie alors les chemins des fichiers de sortie pour chaque jeu de données\n",
    "poetry_file_path = output_dir / 'poetry.xlsx'\n",
    "prose_file_path = output_dir / 'prose.xlsx'\n",
    "\n",
    "\n",
    "# On sauvegarde les DataFrames dans les fichiers Excel\n",
    "poetry_df.to_excel(poetry_file_path, index=False)\n",
    "prose_df.to_excel(prose_file_path, index=False)\n",
    "\n",
    "print(\"Les fichiers ont bien été créés:\")\n",
    "print(f\"Poetry: {poetry_file_path.resolve()}\")\n",
    "print(f\"Prose: {prose_file_path.resolve()}\")"
   ]
  },
  {
   "cell_type": "markdown",
   "id": "531847ef",
   "metadata": {},
   "source": [
    "On enlève les doublons de Prudence car nous avons décidé de traiter ces textes comme un seul corpus. Cela donnera un jeu de données nommé `poetry_new`. "
   ]
  },
  {
   "cell_type": "code",
   "execution_count": null,
   "id": "9fe08af0",
   "metadata": {},
   "outputs": [],
   "source": [
    "\n",
    "# Charger le sous-jeu de données \"poetry\"\n",
    "chemin_fichier = Path('../data/poetry.xlsx')\n",
    "df = pd.read_excel(chemin_fichier, engine='openpyxl')\n",
    "\n",
    "\n",
    "\n",
    "# Liste des auteurs ciblés pour suppression des doublons\n",
    "auteurs_cibles = [\n",
    "    'Prudence'\n",
    "]\n",
    "\n",
    "#Filtrer l'auteur de ces doublons\n",
    "df_cibles = df[df['workAuthor'].isin(auteurs_cibles)]\n",
    "\n",
    "# On réunit ses textes en un seul titre \"corpus_prudentii\" puisque nous les considérons désormais comme une seule et même oeuvre\n",
    "df_cibles.loc[df_cibles['workAuthor'] == 'Prudence', 'workTitle'] = 'corpus_prudentii'\n",
    "\n",
    "#Supprimer les doublons de witSignature par auteur\n",
    "df_cibles_sans_doublons = df_cibles.drop_duplicates(subset=['workAuthor', 'witSignature'])\n",
    "\n",
    "# Conserver les autres auteurs\n",
    "df_autres = df[~df['workAuthor'].isin(auteurs_cibles)]\n",
    "\n",
    "# Fusionner tout\n",
    "df_final = pd.concat([df_autres, df_cibles_sans_doublons], ignore_index=True)\n",
    "\n",
    "#Enregistrer le résultat dans le nouveau jeu de données nommé \"poetry_new\"\n",
    "chemin_sortie = Path('../data/poetry_new.xlsx')\n",
    "df_final.to_excel(chemin_sortie, index=False, engine='openpyxl')\n",
    "\n",
    "print(f\" Doublons supprimés pour Prudence!\")\n"
   ]
  },
  {
   "cell_type": "markdown",
   "id": "802b73d2",
   "metadata": {},
   "source": [
    "# Partie II : Les données d'abondance\n",
    "\n",
    "Notre jeu de données est désormais à la bonne granularité et a été divisé en deux sous-ensembles : **prose** et **poésie**.\n",
    "\n",
    "Nous allons maintenant calculer les **données d’abondance** pour chacun de ces jeux. Cela consiste à obtenir, pour chaque forme :\n",
    "\n",
    "- le nombre de **singletons**,\n",
    "- le nombre de **doubletons**,\n",
    "- le **nombre total de témoins** (=nombre d’individus),\n",
    "- le **nombre total de textes distincts** (=nombre d’espèce).\n",
    "\n",
    "\n",
    "**NB** : Le code qui s'ensuit est celui accompagnant \"\"Forgotten Books: The Application of Unseen Species Models to the Survival of Culture\" [2021], by Mike Kestemont, Folgert Karsdorp, Elisabeth de Bruijn, Matthew Driscoll, Katarzyna A. Kapitan, Pádraig Ó Macháin, Daniel Sawyer, Remco Sleiderink & Anne Chao. Il est disponible à l'adresse : https://github.com/mikekestemont/forgotten-books."
   ]
  },
  {
   "cell_type": "markdown",
   "id": "9eb04932",
   "metadata": {},
   "source": [
    "Avant cela, nous réduisons nos deux jeux de données (poetry et prose) aux données qui seront utiles, à savoir le titre du texte, la côte du manuscrit et le nom de l'auteur."
   ]
  },
  {
   "cell_type": "code",
   "execution_count": null,
   "id": "17888caa",
   "metadata": {},
   "outputs": [],
   "source": [
    "\n",
    "\n",
    "# On créé un dictionnaire vide pour stocker les DataFrames\n",
    "lits = {}\n",
    "\n",
    "# On spécifie le chemin du répertoire \n",
    "repertoire_local = r\"C:\\Users\\Guidi\\Desktop\\Ecole_Chartes\\Memoire\\data_copia\"\n",
    "\n",
    "# On lit tous les fichiers Excel dans le répertoire spécifié\n",
    "for fn in sorted(glob.glob(f'{repertoire_local}/*.xlsx')):\n",
    "    # Lire chaque fichier Excel et supprimer les lignes sans titre\n",
    "    df = pd.read_excel(fn, engine='openpyxl').dropna(subset=[\"workTitle\"])\n",
    "    \n",
    "    # On extrait le nom du fichier sans l'extension .xlsx et le convertir en minuscules\n",
    "    lang = os.path.basename(fn).replace('.xlsx', '').lower()\n",
    "    \n",
    "    # On ajoute les colonnes 'title', 'signature' et 'repository' au dictionnaire\n",
    "    lits[lang] = df[['witSignature', 'workTitle','workAuthor']]\n",
    "\n",
    "# Affiche results juste pour vérifier\n",
    "print(lits)\n"
   ]
  },
  {
   "cell_type": "markdown",
   "id": "45ef280e",
   "metadata": {},
   "source": [
    "On peut alors calculer nos données d'abondance !"
   ]
  },
  {
   "cell_type": "code",
   "execution_count": null,
   "id": "a4ddcf95",
   "metadata": {},
   "outputs": [],
   "source": [
    "stats = []\n",
    "for lit, df in lits.items():\n",
    "    # On convertit les titres en données d'abondance\n",
    "    abundance = u.to_abundance(df['workTitle'])\n",
    "    \n",
    "    # On calcule les statistiques de base à partir des données d'abondance\n",
    "    s = u.basic_stats(abundance)\n",
    "    \n",
    "    # On créé un dictionnaire pour stocker les résultats par genre\n",
    "    d = {'genre': lit}\n",
    "    \n",
    "    # On ajoute les statistiques spécifiques au dictionnaire\n",
    "    for k in ('f1', 'f2', 'S', 'n'):\n",
    "        d[k] = s[k]\n",
    "    \n",
    "    # Ne pas ajouter la clé 'repo' (dépôts distincts)\n",
    "    # d['repo'] = len(set(df['repository']))  # Cette ligne est supprimée\n",
    "    \n",
    "    # On ajoute le dictionnaire à la liste des statistiques\n",
    "    stats.append(d)\n",
    "\n",
    "# Résultat final!!\n",
    "stats\n"
   ]
  },
  {
   "cell_type": "code",
   "execution_count": null,
   "id": "e71ea2a9",
   "metadata": {},
   "outputs": [],
   "source": [
    "#On créé le Dataframe des statistiques d'abondance\n",
    "stats_df = pd.DataFrame(stats)\n",
    "stats_df['genre'] = stats_df['genre'].str.lower()\n",
    "stats_df.loc[len(stats_df)] = ['all'] + list(stats_df[['f1', 'f2', 'S', 'n']].sum())\n",
    "stats_df = stats_df.set_index('genre')\n",
    "stats_df"
   ]
  },
  {
   "cell_type": "code",
   "execution_count": null,
   "id": "a069c3a8",
   "metadata": {},
   "outputs": [],
   "source": [
    "#On assemble les données et on fait en sorte que les titres (workTitle) aient le genre associé\n",
    "dfs = []\n",
    "for genr, df in lits.items():\n",
    "    df['workTitle'] = [t+'_'+lang for t in df['workTitle']]\n",
    "    dfs.append(df)\n",
    "    \n",
    "df_all = pd.concat(dfs, ignore_index=True)\n",
    "df_all"
   ]
  },
  {
   "cell_type": "code",
   "execution_count": null,
   "id": "a0475afc",
   "metadata": {},
   "outputs": [],
   "source": [
    "#Création d'une table d'abondance générale à partir des titres\n",
    "abundance = u.to_abundance(df_all['workTitle'])"
   ]
  },
  {
   "cell_type": "code",
   "execution_count": null,
   "id": "317368f0",
   "metadata": {},
   "outputs": [],
   "source": [
    "#Petite vérification\n",
    "import os\n",
    "print(\"Répertoire de travail :\", os.getcwd())"
   ]
  },
  {
   "cell_type": "markdown",
   "id": "c1326eee",
   "metadata": {},
   "source": [
    "# Partie III : Les estimateurs de richesse \n",
    "\n",
    "Section 1.2"
   ]
  },
  {
   "cell_type": "markdown",
   "id": "f4fc13e8",
   "metadata": {},
   "source": [
    "Nous utilisons la fonction `diversity` afin d’obtenir des estimations via différents estimateurs.  \n",
    "Cela nous permet d’évaluer notamment une estimation minimale du nombre de textes (espèces) et de manuscrits (individus).\n"
   ]
  },
  {
   "cell_type": "code",
   "execution_count": null,
   "id": "0aa019ba",
   "metadata": {},
   "outputs": [],
   "source": [
    "print('original # works:', diversity(abundance, method='chao1'))\n",
    "print('original # works:', diversity(abundance, method='ichao1'))\n",
    "print('original # works:', diversity(abundance, method='jackknife', CI=False,))\n",
    "print('original # works:', diversity(abundance, method='ACE', k=3))\n",
    "print('original # works:', diversity(abundance, method='egghe_proot', alpha=200))\n",
    "\n",
    "print('original # documents:', diversity(abundance, method='minsample'))"
   ]
  },
  {
   "cell_type": "markdown",
   "id": "a30ac642",
   "metadata": {},
   "source": [
    "La fonction `survival_ratio()` calcule le taux de survie des textes par rapport aux estimateurs de richesse (s/N). On trace ensuite les courbes de densité des estimations bootstrap. On obtient ainsi une estimation minimale du taux de survie des textes patristiques."
   ]
  },
  {
   "cell_type": "code",
   "execution_count": null,
   "id": "01296997",
   "metadata": {},
   "outputs": [],
   "source": [
    "wsurvival_all = survival_ratio(abundance, method='chao1', CI= CI, n_iter=1000, n_jobs=1)"
   ]
  },
  {
   "cell_type": "code",
   "execution_count": null,
   "id": "81734093",
   "metadata": {},
   "outputs": [],
   "source": [
    "ax = density(wsurvival_all, figsize=(5, 4), xlim=(0.1, 1.1))\n",
    "ax.set_yticklabels([])\n",
    "ax.tick_params(axis='y', which='both', left=False)\n",
    "ax.set_ylabel(None)\n",
    "ax.spines['left'].set_visible(False)\n",
    "plt.savefig('../outputs/dens_works.pdf')"
   ]
  },
  {
   "cell_type": "markdown",
   "id": "472292d8",
   "metadata": {},
   "source": [
    "On fait de même avec Minsample, pour obtenir une estimation minimale du taux de survie des manuscrits."
   ]
  },
  {
   "cell_type": "code",
   "execution_count": null,
   "id": "da677d21",
   "metadata": {},
   "outputs": [],
   "source": [
    "dsurvival_all = survival_ratio(abundance, method='minsample', n_iter=1000)"
   ]
  },
  {
   "cell_type": "code",
   "execution_count": null,
   "id": "be249edf",
   "metadata": {},
   "outputs": [],
   "source": [
    "ax = density(dsurvival_all, figsize=(5, 4), xlim=(0.0, 0.4))\n",
    "ax.set_yticklabels([])\n",
    "ax.tick_params(axis='y', which='both', left=False)\n",
    "ax.set_ylabel(None)\n",
    "ax.spines['left'].set_visible(False)\n",
    "plt.savefig('../outputs/dens_docs.pdf')"
   ]
  },
  {
   "cell_type": "markdown",
   "id": "f835c758",
   "metadata": {},
   "source": [
    "# Partie IV : La courbe d'accumulation des espèces (section 1.3)"
   ]
  },
  {
   "cell_type": "markdown",
   "id": "7af4ec9f",
   "metadata": {},
   "source": [
    "On rappelle que cette dernière donne une idée de combien de manucrits il resterait à trouver afin de trouver encore de nouveaux textes. La fonction `species_accumulation` permet de la tracer.\n"
   ]
  },
  {
   "cell_type": "code",
   "execution_count": null,
   "id": "057103d2",
   "metadata": {},
   "outputs": [],
   "source": [
    "\n",
    "max_steps = 20000 # on fixe un nombre qui soit réaliste de notre corpus\n",
    "accumulation = species_accumulation(abundance, max_steps=max_steps)"
   ]
  },
  {
   "cell_type": "code",
   "execution_count": null,
   "id": "9c77701f",
   "metadata": {},
   "outputs": [],
   "source": [
    "# Paramètres pour la position de la courbe d'accumulation\n",
    "left, bottom, width, height = [0.44, 0.45, 0.35, 0.35]\n",
    "fig = plt.figure(figsize=(8, 6))\n",
    "\n",
    "# On créé l'axe secondaire pour la courbe d'accumulation\n",
    "ax2 = fig.add_axes([left, bottom, width, height])\n",
    "\n",
    "# On trace la courbe d'accumulation des espèces sans titre mais avec une légende\n",
    "accumulation_curve(abundance, accumulation, c0='C2', c1='C2',\n",
    "                   xlabel='textes', ylabel='témoins',\n",
    "                   ax=ax2, xlim=(0, max_steps), label='Accumulation')\n",
    "\n",
    "# Ajout de la légende\n",
    "ax2.legend()\n",
    "\n",
    "# Formatage des axes\n",
    "ax2.tick_params(axis='y', which='minor', left=False)\n",
    "ax2.ticklabel_format(style='sci', axis='x', scilimits=(0, 0), useMathText=True)\n",
    "\n",
    "plt.show()"
   ]
  },
  {
   "cell_type": "markdown",
   "id": "2e86f11a",
   "metadata": {},
   "source": [
    "Petite fonction personnelle (rendons à César ce qui est à César!) afin de trouver le point précis où la courbe s'aplatit (cela veut dire qu'il n'est plus probable de trouver de nouveaux textes)."
   ]
  },
  {
   "cell_type": "code",
   "execution_count": null,
   "id": "706bd615",
   "metadata": {},
   "outputs": [],
   "source": [
    "\n",
    "\n",
    "def detect_flattening(accumulation, \n",
    "                      key='richness', threshold=0.001, plot=True):\n",
    "    \"\"\"\n",
    "    Détecte le point où la courbe d'accumulation commence à s'aplatir.\n",
    "\n",
    "    accumulation : dict contenant les données de richesse.\n",
    "    abundance : données d’abondance à transmettre à accumulation_curve.\n",
    "    max_steps : borne maximale pour l’axe des x.\n",
    "    key : clé de la richesse dans le dictionnaire accumulation.\n",
    "    threshold : seuil sous lequel la courbe est considérée comme plate.\n",
    "    plot : si True, affiche la courbe avec la ligne d'aplatissement.\n",
    "    \"\"\"\n",
    "    richness = accumulation.get(key)\n",
    "    \n",
    "    if richness is None:\n",
    "        raise ValueError(f\"Mince, C=clé '{key}' non trouvée dans le dictionnaire...\")\n",
    "    \n",
    "    diffs = np.diff(richness)\n",
    "    flattened_indices = np.where(diffs < threshold)[0]\n",
    "\n",
    "    if len(flattened_indices) > 0:\n",
    "        first_flattened = flattened_indices[0] + 1  # +1 car np.diff réduit la taille\n",
    "        print(f\"La courbe commence à s'aplatir autour du texte numéro {first_flattened}\")\n",
    "    else:\n",
    "        first_flattened = None\n",
    "        print(\"La courbe ne s'aplatit pas dans l'intervalle observé, peu probable...\")\n",
    "\n",
    "    if plot:\n",
    "        fig, ax = plt.subplots(figsize=(8, 6))\n",
    "\n",
    "        # On reprend le graphique précédent\n",
    "        accumulation_curve(abundance, accumulation,\n",
    "                           c0='C2', c1='C2',\n",
    "                           xlabel='témoins', ylabel='textes',\n",
    "                           ax=ax,\n",
    "                           xlim=(0, max_steps))\n",
    "\n",
    "        # Et on ajoute tout simplement une ligne rouge pour signaler l'aplatissement\n",
    "        if first_flattened is not None:\n",
    "            ax.axvline(x=first_flattened, color='red', linestyle='--')\n",
    "            ax.legend()\n",
    "\n",
    "        ax.tick_params(axis='y', which='minor', left=False)\n",
    "        ax.ticklabel_format(style='sci', axis='x', scilimits=(0, 0), useMathText=True)\n",
    "\n",
    "        plt.tight_layout()\n",
    "        plt.show()\n",
    "\n",
    "    return first_flattened\n"
   ]
  },
  {
   "cell_type": "code",
   "execution_count": null,
   "id": "2c45fa5f",
   "metadata": {},
   "outputs": [],
   "source": [
    "#On applique la fonction et on attend le résultat...\n",
    "detect_flattening(accumulation)"
   ]
  },
  {
   "cell_type": "markdown",
   "id": "800382fd",
   "metadata": {},
   "source": [
    "# Partie V :  Le nombre de Hill (section 1.4)"
   ]
  },
  {
   "cell_type": "markdown",
   "id": "ace44298",
   "metadata": {},
   "source": [
    "Le nombre de Hill est un indicateur de diversité qui combine la richesse et l’abondance des espèces.  \n",
    "En faisant varier la valeur de ***q***, on obtient différentes mesures de la diversité :  \n",
    "- pour ***q = 0***, on considère uniquement la richesse spécifique (nombre d’espèces) ;  \n",
    "- pour ***q = 1***, on obtient un indice équivalent à celui de Shannon-Weaver ;  \n",
    "- pour ***q = 2***, on se rapproche de l’indice de Simpson.  \n"
   ]
  },
  {
   "cell_type": "code",
   "execution_count": null,
   "id": "7329f9d3",
   "metadata": {},
   "outputs": [],
   "source": [
    "emp, est = hill_numbers(abundance, n_iter=10000, n_jobs=4)"
   ]
  },
  {
   "cell_type": "code",
   "execution_count": null,
   "id": "27fef461",
   "metadata": {},
   "outputs": [],
   "source": [
    "fig, ax = plt.subplots(figsize=(8, 6))\n",
    "hill_plot(emp, est, add_densities=False, ax=ax)\n",
    "plt.show()"
   ]
  },
  {
   "cell_type": "markdown",
   "id": "e8a10906",
   "metadata": {},
   "source": [
    "# Partie VI : L'équitabilité (section 1.5)\n",
    "\n",
    "L’équitabilité est un indicateur utilisé en biologie pour évaluer si une communauté est équilibrée.  \n",
    "Un profil d’équitabilité décroissant indique un déséquilibre : certaines espèces sont très représentées, tandis que d’autres ne le sont que faiblement.  \n",
    "Dans notre cas, cela signifie qu’un texte représenté par un seul individu a plus de chances d’être perdu, ce qui augmente le risque de disparition de certains contenus. La fonction `evenness` permet de générer ce profil.\n"
   ]
  },
  {
   "cell_type": "code",
   "execution_count": null,
   "id": "0a50aeb6",
   "metadata": {},
   "outputs": [],
   "source": [
    "# Calcul de l'équitabilité \n",
    "evenness_result = evenness(est)\n",
    "print(evenness_result)"
   ]
  },
  {
   "cell_type": "markdown",
   "id": "7fda2acb",
   "metadata": {},
   "source": [
    "Remarque : La fonction evenness_plot est prévue à la base pour traiter plusieurs séries de données sous forme de dictionnaire (pour le projet ***Forgotten Books***, un profil d'équitabilité est généré pour chaque langue), avec des labels associés à chaque série. Comme nous n'avons qu'une seule série sous forme d'array, il suffit de la placer dans un dictionnaire avant de la passer à la fonction."
   ]
  },
  {
   "cell_type": "code",
   "execution_count": null,
   "id": "9f8a2162",
   "metadata": {},
   "outputs": [],
   "source": [
    "evenness_result_dict = {'Équitabilité': evenness_result}\n",
    "\n",
    "ax = evenness_plot(evenness_result_dict, figsize=(7, 5))\n",
    "plt.tight_layout()\n",
    "plt.savefig('../outputs/evenness.pdf')\n",
    "plt.show()\n"
   ]
  }
 ],
 "metadata": {
  "kernelspec": {
   "display_name": "mon_env",
   "language": "python",
   "name": "python3"
  },
  "language_info": {
   "codemirror_mode": {
    "name": "ipython",
    "version": 3
   },
   "file_extension": ".py",
   "mimetype": "text/x-python",
   "name": "python",
   "nbconvert_exporter": "python",
   "pygments_lexer": "ipython3",
   "version": "3.7.12"
  }
 },
 "nbformat": 4,
 "nbformat_minor": 5
}
