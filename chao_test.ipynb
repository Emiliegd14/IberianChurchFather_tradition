{
 "cells": [
  {
   "cell_type": "code",
   "execution_count": 17,
   "metadata": {},
   "outputs": [
    {
     "name": "stderr",
     "output_type": "stream",
     "text": [
      "<>:7: SyntaxWarning: invalid escape sequence '\\D'\n",
      "<>:7: SyntaxWarning: invalid escape sequence '\\D'\n",
      "C:\\Users\\ADMIN\\AppData\\Local\\Temp\\ipykernel_17016\\1516325864.py:7: SyntaxWarning: invalid escape sequence '\\D'\n",
      "  df = pd.read_excel('C:\\\\Users\\\\ADMIN\\Desktop\\\\Ecole_des_Chartes\\\\Memoire_2\\\\manuscripts_data_2\\\\manuscripts_data_vr\\\\wits_table4.xlsx')\n"
     ]
    },
    {
     "name": "stdout",
     "output_type": "stream",
     "text": [
      "AbundanceData(S_obs=57, f1=9, f2=3, n=1312, counts=array([90, 77, 72, 63, 62, 54, 54, 54, 54, 54, 54, 54, 54, 52, 43, 37, 30,\n",
      "       29, 28, 25, 25, 22, 19, 18, 16, 14, 13, 11, 11, 10, 10, 10, 10,  9,\n",
      "        7,  7,  6,  6,  6,  6,  5,  5,  4,  3,  3,  2,  2,  2,  1,  1,  1,\n",
      "        1,  1,  1,  1,  1,  1], dtype=int64))\n"
     ]
    }
   ],
   "source": [
    "\n",
    "#Je prétraite mes données pour obtenir mes données d'abondance à l'image de ce que propose le logiciel \"Copia\"\n",
    "\n",
    "import pandas as pd\n",
    "import numpy as np\n",
    "from collections import namedtuple\n",
    "\n",
    "df = pd.read_excel('C:\\\\Users\\\\ADMIN\\Desktop\\\\Ecole_des_Chartes\\\\Memoire_2\\\\manuscripts_data_2\\\\manuscripts_data_vr\\\\wits_table4.xlsx')\n",
    "\n",
    "# Je compte les occurrences de chaque titre puis combien de titres différents ont été observés (les oeuvres ici sont les espèces)\n",
    "title_counts = df['workTitle'].value_counts()\n",
    "S_obs = len(title_counts)\n",
    "\n",
    "#Je calcule le nombre de singletons et doubletons et le nombre total de titres pour obtenir le nombre total d'individus de mon échantillon\n",
    "f1 = sum(title_counts == 1)\n",
    "f2 = sum(title_counts == 2)\n",
    "n = len(df['workTitle'])\n",
    "\n",
    " #je créé ma structure de données\n",
    "counts = np.array(title_counts)\n",
    "AbundanceData = namedtuple('AbundanceData', ['S_obs', 'f1', 'f2', 'n', 'counts'])\n",
    "abundance_data = AbundanceData(S_obs=S_obs, f1=f1, f2=f2, n=n, counts=counts)\n",
    "print(abundance_data)"
   ]
  },
  {
   "cell_type": "markdown",
   "metadata": {},
   "source": [
    "Je vais appliquer désormais différents estimateurs de richesse."
   ]
  },
  {
   "cell_type": "code",
   "execution_count": 20,
   "metadata": {},
   "outputs": [
    {
     "name": "stdout",
     "output_type": "stream",
     "text": [
      "Chao1 estimation: 70.5\n",
      "ACE estimation: 65.93821510297482\n",
      "Jackknife estimation: 57.02750190985485\n",
      "Abundance Data: AbundanceData(S_obs=57, f1=9, f2=3, n=1312, counts=array([90, 77, 72, 63, 62, 54, 54, 54, 54, 54, 54, 54, 54, 52, 43, 37, 30,\n",
      "       29, 28, 25, 25, 22, 19, 18, 16, 14, 13, 11, 11, 10, 10, 10, 10,  9,\n",
      "        7,  7,  6,  6,  6,  6,  5,  5,  4,  3,  3,  2,  2,  2,  1,  1,  1,\n",
      "        1,  1,  1,  1,  1,  1], dtype=int64))\n",
      "Taux de survie des œuvres: 0.4470588235294118\n"
     ]
    },
    {
     "data": {
      "image/png": "[encoded data removed]",
      "text/plain": [
       "<Figure size 640x480 with 1 Axes>"
      ]
     },
     "metadata": {},
     "output_type": "display_data"
    }
   ],
   "source": [
    "\n",
    "import matplotlib.pyplot as plt\n",
    "import pandas as pd\n",
    "import numpy as np\n",
    "from collections import namedtuple, Counter\n",
    "\n",
    "\n",
    "df = pd.read_excel('C:\\\\Users\\\\ADMIN\\\\Desktop\\\\Ecole_des_Chartes\\\\Memoire_2\\\\manuscripts_data_2\\\\manuscripts_data_vr\\\\wits_table4.xlsx')\n",
    "\n",
    "# Je définis chaque fonction des estimateurs de richesse : à chaque fois je reprends la formule basique que l'on trouve pour ces estimateurs. J'indique dans mon Mémoire mes sources qui sont principalement des articles de Anne Chao bien évidemment.\n",
    "def diversity(abundance_data, method):\n",
    "    if method == 'chao1':\n",
    "        return chao1(abundance_data)\n",
    "    elif method == 'ace':\n",
    "        return ace(abundance_data)\n",
    "    elif method == 'jackknife':\n",
    "        return jackknife(abundance_data)\n",
    "    else:\n",
    "        raise ValueError(\"Méthode non reconnue\")\n",
    "\n",
    "def chao1(data):\n",
    "    if data.f2 > 0:\n",
    "        S_chao1 = data.S_obs + (data.f1**2) / (2 * data.f2)\n",
    "    else:\n",
    "        S_chao1 = data.S_obs + (data.f1 * (data.f1 - 1)) / (2 * (data.f2 + 1))  # Utiliser une formule alternative si aucun doubleton\n",
    "    return S_chao1\n",
    "\n",
    "def ace(data):\n",
    "    S_ace = data.S_obs + ((data.f1*(data.f1 - 1)) / (2 * (data.f2 + 1))) * (1 - (data.f1 / (data.n - 1)))\n",
    "    return S_ace\n",
    "\n",
    "def jackknife(data):    \n",
    "    S_jackknife = data.S_obs + data.f1 * (data.f1 - 1) / (2 * (data.n - data.f2))\n",
    "    return S_jackknife\n",
    "\n",
    "def taux_survie(S_obs, S_chao1):\n",
    "    return S_obs / (S_obs + S_chao1)\n",
    "\n",
    "S_chao1 = diversity(abundance_data, method='chao1')\n",
    "print(\"Chao1 estimation:\", S_chao1)\n",
    "print(\"ACE estimation:\", diversity(abundance_data, method='ace'))\n",
    "print(\"Jackknife estimation:\", diversity(abundance_data, method='jackknife'))\n",
    "print(\"Abundance Data:\", abundance_data)\n",
    "\n",
    "# Je créé une liste contenant les noms des méthodes d'estimation de diversité et une autre liste contenant les valeurs estimées de diversité en vue de mon future graphique\n",
    "methods = ['Chao1', 'ACE', 'Jackknife']\n",
    "estimations = [S_chao1, diversity(abundance_data, method='ace'), diversity(abundance_data, method='jackknife')]\n",
    "\n",
    "\n",
    "# Je calcule pour finir le taux de survie des œuvres\n",
    "taux = taux_survie(S_obs, S_chao1)\n",
    "print(\"Taux de survie des œuvres:\", taux)\n",
    "\n",
    " \n",
    "plt.bar(methods, estimations)\n",
    "plt.xlabel('Méthodes')\n",
    "plt.ylabel('Estimations de diversité')\n",
    "plt.title('Estimations de diversité selon différentes méthodes')\n",
    "plt.savefig('graphiquechaowits.png')\n",
    "plt.show()\n",
    "\n",
    "\n"
   ]
  }
 ],
 "metadata": {
  "kernelspec": {
   "display_name": "cours1GPython",
   "language": "python",
   "name": "python3"
  },
  "language_info": {
   "codemirror_mode": {
    "name": "ipython",
    "version": 3
   },
   "file_extension": ".py",
   "mimetype": "text/x-python",
   "name": "python",
   "nbconvert_exporter": "python",
   "pygments_lexer": "ipython3",
   "version": "3.12.3"
  }
 },
 "nbformat": 4,
 "nbformat_minor": 2
}
