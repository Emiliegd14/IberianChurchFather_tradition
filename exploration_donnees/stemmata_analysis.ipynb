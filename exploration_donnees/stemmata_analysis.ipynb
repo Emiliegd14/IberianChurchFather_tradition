{
 "cells": [
  {
   "cell_type": "markdown",
   "id": "3c12dcf5",
   "metadata": {},
   "source": [
    "Ce notebook renvoie à la partie 0.2.2 \"Aperçu philologique et computationnel des **stemmata codicum** de notre corpus\"."
   ]
  },
  {
   "cell_type": "code",
   "execution_count": 8,
   "id": "95f2eeb2",
   "metadata": {},
   "outputs": [
    {
     "name": "stdout",
     "output_type": "stream",
     "text": [
      "The autoreload extension is already loaded. To reload it, use:\n",
      "  %reload_ext autoreload\n"
     ]
    }
   ],
   "source": [
    "%load_ext autoreload\n",
    "%autoreload 2\n",
    "import os\n",
    "import pickle\n",
    "import matplotlib.pyplot as plt\n",
    "import numpy as np\n",
    "import birth_death_utils as bd\n",
    "import networkx as nx\n",
    "from scipy.optimize import fsolve\n",
    "from tabulate import tabulate\n",
    "import pandas as pd\n",
    "import re\n",
    "from collections import Counter\n",
    "from scipy.signal.windows import gaussian\n",
    "from tqdm.notebook import tqdm\n",
    "\n",
    "plt.rcParams[\"text.usetex\"] = True\n",
    "plt.rcParams[\"font.family\"] = \"serif\"\n",
    "plt.rcParams['pdf.use14corefonts'] = True "
   ]
  },
  {
   "cell_type": "markdown",
   "id": "c6020516",
   "metadata": {},
   "source": [
    "## Partie I : Pré-traitement des *stemmata*\n"
   ]
  },
  {
   "cell_type": "markdown",
   "id": "d78bb37e",
   "metadata": {},
   "source": [
    "Les données sont les *stemmata* récoltés pour notre corpus de textes patristiques en péninsule Ibérique.Ils sont enregistrés au format `.dot`. Un pré-traitement s'impose: on les charge puis on nettoie les erreurs comme les contaminations, les liens douteux...\n"
   ]
  },
  {
   "cell_type": "code",
   "execution_count": null,
   "id": "7d5b2bf9",
   "metadata": {},
   "outputs": [],
   "source": [
    "def load_from_OpenStemmata(file):\n",
    "    '''\n",
    "    Retourne un arbre orienté (nx.DiGraph) à partir d’un fichier .dot de la base de données.\n",
    "    '''\n",
    "    # On charge le graphe depuis le fichier .dot grâce à pydot via networkx\n",
    "    G = nx.nx_pydot.read_dot(file)\n",
    "    \n",
    "    # On supprime les liens de paternité incertaine (arêtes en tirets)\n",
    "    # Ces liens sont marqués par le style 'dashed' dans le fichier .dot\n",
    "    edges_pt = nx.get_edge_attributes(G, 'style')\n",
    "    for edge, pt in edges_pt.items():\n",
    "        if pt == 'dashed':\n",
    "            G.remove_edge(*edge)\n",
    "    \n",
    "    # On supprime les nœuds isolés (singletons)\n",
    "    # Ce sont des nœuds sans parents ni enfants, souvent dus à des erreurs ou données inutiles\n",
    "    singletons = []\n",
    "    for node in G.nodes():\n",
    "        if G.in_degree(node) == 0 and G.out_degree(node) == 0:\n",
    "            singletons.append(node)\n",
    "    G.remove_nodes_from(singletons)\n",
    "    \n",
    "    # On enlève les contaminations intra-stemmatiques\n",
    "    # Ces contaminations sont des nœuds avec plusieurs parents, ce qui n’est pas possible dans un arbre\n",
    "    # Pour garder un arbre valide, on conserve un seul parent et on supprime les autres au hasard\n",
    "    for node in G.nodes():\n",
    "        in_neighbors = list(G.predecessors(node))\n",
    "        if G.in_degree(node) > 1:\n",
    "            contaminations = np.random.choice(in_neighbors, len(in_neighbors) - 1, replace=False)\n",
    "            for parent in contaminations:\n",
    "                G.remove_edge(parent, node)\n",
    "    \n",
    "    # On identifie les témoins survivants\n",
    "    # Dans ce contexte, les nœuds sans l’attribut 'color' sont considérés comme témoins vivants\n",
    "    # On crée un dictionnaire 'living' pour marquer l’état de chaque nœud (True = vivant, False = non)\n",
    "    colors = nx.get_node_attributes(G, 'color')\n",
    "    living = {}\n",
    "    for node in G.nodes():\n",
    "        if node in colors.keys():\n",
    "            living[node] = False\n",
    "        else:\n",
    "            living[node] = True\n",
    "    nx.set_node_attributes(G, living, 'state')\n",
    "    \n",
    "    # On génère l’arbre stemma final en utilisant une fonction externe\n",
    "    # Cette fonction supprime notamment les nœuds non attestés qui ne créent pas de branches dans l’arbre\n",
    "    st = bd.generate_stemma(G)\n",
    "    \n",
    "    # On retourne l’arbre nettoyé et prêt à être utilisé\n",
    "    return st\n"
   ]
  },
  {
   "cell_type": "code",
   "execution_count": null,
   "id": "711799c5",
   "metadata": {},
   "outputs": [
    {
     "name": "stdout",
     "output_type": "stream",
     "text": [
      "AbellanMartinIglesias_2015_BachiarusDefide\n",
      "Anglada-Anfruns_2012_Pacianiopera\n",
      "Arnaud-Lindet_1990_OroseHistoriaadversumpaganos\n",
      "Bergman_1926_OperaPrudentii\n",
      "Burgess_1993_ChronicaeIdacii\n",
      "Daur_1985_OrosiiCommonitorum\n",
      "Dorfbauer_2015_Dialogus-Quaestionum\n",
      "Künslte_1905_SyagrusContrahaereticos\n",
      "Martinez-Diez_1972_MontanusEpistulaeII\n",
      "Schulgz-Flügel_1994_GregoriusElvireDepithalamioI-II\n",
      "Schulgz-Flügel_1994_GregoriusElvireDepithalamioIII-V\n",
      "Zangemeister_1882_OroseLiberapologeticus\n"
     ]
    }
   ],
   "source": [
    "#On charge nos arbres\n",
    "wholeCorpus = {}\n",
    "for work in os.listdir(f'corpus_stemmata/stemmata_nomodified'):\n",
    "    print(f'{work}')\n",
    "    st = load_from_OpenStemmata(f'corpus_stemmata/stemmata_nomodified/{work}/stemma.gv')\n",
    "    wholeCorpus[f\"{work}\"] = st"
   ]
  },
  {
   "cell_type": "markdown",
   "id": "b04ac679",
   "metadata": {},
   "source": [
    "## Partie II: Analyse computationnelle des propriétés typologiques des *stemmata*"
   ]
  },
  {
   "cell_type": "markdown",
   "id": "6c6bd344",
   "metadata": {},
   "source": [
    "\n",
    "\n",
    "On commence par charger la liste des *stemmata* à partir du corpus complet. Ensuite, plusieurs indicateurs statistiques sont calculés pour caractériser la structure des arbres :\n",
    "\n",
    "- **Proportion de nœuds internes de degré 2** : mesure la fréquence des nœuds ayant exactement deux descendants directs.\n",
    "- **Proportion de nœuds internes de degré 3** : mesure la fréquence des nœuds ayant exactement trois descendants directs.\n",
    "- **Proportion d’arbres bifides** : indique la part d’arbres à racine bifide.\n",
    "- **Proportion de filiations directes entre témoins vivants** : évalue la part des liens directs qui relient des témoins survivants dans les arbres.\n",
    "- **Indice d’asymétrie (imbalance) moyen** : quantifie l’asymétrie moyenne des arbres.\n",
    "\n",
    ".\n"
   ]
  },
  {
   "cell_type": "code",
   "execution_count": null,
   "id": "f5ec2d5d",
   "metadata": {},
   "outputs": [],
   "source": [
    "@bd.bootstraped\n",
    "def prop_degree_2(trees):\n",
    "    '''\n",
    "    Retourne la proportion de nœuds internes (non feuilles) de degré deux\n",
    "    dans une liste d’arbres\n",
    "    '''\n",
    "    nb_deg_2 = 0\n",
    "    nb_internal_nodes = 0\n",
    "    for g in trees:\n",
    "        # On compte le nombre total de nœuds internes dans l’arbre\n",
    "        nb_internal_nodes += len(bd.internal_nodes(g))\n",
    "        # On vérifie si la racine a un degré sortant égal à 2\n",
    "        if g.out_degree(bd.root(g)) == 2:\n",
    "            nb_deg_2 += 1\n",
    "    # On calcule la proportion de nœuds de degré 2 parmi les nœuds internes\n",
    "    return nb_deg_2 / nb_internal_nodes\n",
    "\n",
    "\n",
    "@bd.bootstraped\n",
    "def prop_degree_3(trees):\n",
    "    '''\n",
    "    Retourne la proportion de nœuds internes (non feuilles) de degré trois\n",
    "    dans une liste d’arbres\n",
    "    '''\n",
    "    nb_deg_3 = 0\n",
    "    nb_internal_nodes = 0\n",
    "    for g in trees:\n",
    "        # On compte le nombre total de nœuds internes dans l’arbre\n",
    "        nb_internal_nodes += len(bd.internal_nodes(g))\n",
    "        # On vérifie si la racine a un degré sortant égal à 3\n",
    "        if g.out_degree(bd.root(g)) == 3:\n",
    "            nb_deg_3 += 1\n",
    "    # On calcule la proportion de nœuds de degré 3 parmi les nœuds internes\n",
    "    return nb_deg_3 / nb_internal_nodes\n",
    "\n",
    "\n",
    "@bd.bootstraped\n",
    "def bifidity(trees):\n",
    "    '''\n",
    "    Retourne la proportion d’arbres dont la racine a un degré sortant de deux\n",
    "    dans une liste d’arbres\n",
    "    '''\n",
    "    nb_bifid = 0\n",
    "    for g in trees:\n",
    "        # On vérifie si la racine a deux descendants directs\n",
    "        if g.out_degree(bd.root(g)) == 2:\n",
    "            nb_bifid += 1\n",
    "    # On calcule la proportion d’arbres bifides\n",
    "    return nb_bifid / len(trees)\n",
    "\n",
    "\n",
    "@bd.bootstraped\n",
    "def count_direct_filiation(trees):\n",
    "    '''\n",
    "    Retourne la proportion d’arêtes reliant des témoins vivants\n",
    "    '''\n",
    "    direct_descents = 0\n",
    "    nb_edges = 0\n",
    "    for g in trees:\n",
    "        for (i, j) in g.edges():\n",
    "            nb_edges += 1\n",
    "            # On vérifie si les deux nœuds aux extrémités de l’arête sont vivants\n",
    "            if g.nodes[i]['state'] and g.nodes[j]['state']:\n",
    "                direct_descents += 1\n",
    "    # On calcule la proportion d’arêtes entre témoins vivants\n",
    "    return direct_descents / nb_edges\n",
    "\n",
    "\n",
    "@bd.bootstraped\n",
    "def i3(trees):\n",
    "    '''\n",
    "    Calcule la moyenne de l’indice d’asymétrie (imbalance) pour les arbres\n",
    "    ayant au moins trois feuilles dans une liste d’arbres\n",
    "    '''\n",
    "    indices = []\n",
    "    for g in trees:\n",
    "        # On conserve uniquement les arbres avec au moins 3 feuilles\n",
    "        if len(bd.leaves(g)) >= 3:\n",
    "            indices.append(bd.imbalance_proportion(g))\n",
    "    # On retourne la moyenne des indices d’asymétrie\n",
    "    return np.mean(indices)\n"
   ]
  },
  {
   "cell_type": "code",
   "execution_count": null,
   "id": "c15b6419",
   "metadata": {},
   "outputs": [
    {
     "name": "stdout",
     "output_type": "stream",
     "text": [
      "╒══════════════════════════════════╤═══════════════════╤═══════════════╤═══════════════╕\n",
      "│ observable                       │   estimated value │   lower bound │   upper bound │\n",
      "╞══════════════════════════════════╪═══════════════════╪═══════════════╪═══════════════╡\n",
      "│ prop. bifid stemmata             │              0.74 │          0.42 │          1    │\n",
      "├──────────────────────────────────┼───────────────────┼───────────────┼───────────────┤\n",
      "│ i3 imbalance                     │              0.16 │          0.02 │          0.36 │\n",
      "├──────────────────────────────────┼───────────────────┼───────────────┼───────────────┤\n",
      "│ prop. of deg-2 internal nodes    │              0.08 │          0.04 │          0.21 │\n",
      "├──────────────────────────────────┼───────────────────┼───────────────┼───────────────┤\n",
      "│ prop. of deg-3 internal nodes    │              0.02 │          0    │          0.08 │\n",
      "├──────────────────────────────────┼───────────────────┼───────────────┼───────────────┤\n",
      "│ prop. of direct witness descents │              0.22 │          0.05 │          0.57 │\n",
      "╘══════════════════════════════════╧═══════════════════╧═══════════════╧═══════════════╛\n"
     ]
    }
   ],
   "source": [
    "# On récupère la liste des stemmata à partir du dictionnaire wholeCorpus\n",
    "stemmata = list(wholeCorpus.values())\n",
    "\n",
    "# On calcule différentes mesures statistiques sur les stemmata\n",
    "deg2 = prop_degree_2(stemmata)          # proportion de nœuds internes de degré 2\n",
    "deg3 = prop_degree_3(stemmata)          # proportion de nœuds internes de degré 3\n",
    "bif = bifidity(stemmata)                 # proportion d’arbres avec racine de degré 2 (bifide)\n",
    "direct = count_direct_filiation(stemmata)  # proportion d’arêtes reliant des témoins vivants\n",
    "imb = i3(stemmata)                       # moyenne de l’indice d’asymétrie (imbalance)\n",
    "\n",
    "# On prépare un tableau avec les résultats, leurs valeurs estimées, et leurs bornes inférieure et supérieure\n",
    "results_iberiancorpus = [\n",
    "    ['observable', 'valeur estimée', 'borne inférieure', 'borne supérieure'],\n",
    "    ['prop. stemmata bifides', f'{bif[0]:.2f}', f'{bif[1]:.2f}', f'{bif[2]:.2f}'],\n",
    "    ['i3 imbalance', f'{imb[0]:.2f}', f'{imb[1]:.2f}', f'{imb[2]:.2f}'],\n",
    "    ['prop. nœuds internes deg-2', f'{deg2[0]:.2f}', f'{deg2[1]:.2f}', f'{deg2[2]:.2f}'],\n",
    "    ['prop. nœuds internes deg-3', f'{deg3[0]:.2f}', f'{deg3[1]:.2f}', f'{deg3[2]:.2f}'],\n",
    "    ['prop. filiation directe entre témoins', f'{direct[0]:.2f}', f'{direct[1]:.2f}', f'{direct[2]:.2f}']\n",
    "]\n",
    "\n",
    "# On affiche ce tableau joliment formaté avec la bibliothèque tabulate\n",
    "print(tabulate(results_iberiancorpus, headers='firstrow', tablefmt='fancy_grid'))\n"
   ]
  },
  {
   "cell_type": "markdown",
   "id": "2dae2b41",
   "metadata": {},
   "source": []
  }
 ],
 "metadata": {
  "kernelspec": {
   "display_name": "envextinction",
   "language": "python",
   "name": "python3"
  },
  "language_info": {
   "codemirror_mode": {
    "name": "ipython",
    "version": 3
   },
   "file_extension": ".py",
   "mimetype": "text/x-python",
   "name": "python",
   "nbconvert_exporter": "python",
   "pygments_lexer": "ipython3",
   "version": "3.12.9"
  }
 },
 "nbformat": 4,
 "nbformat_minor": 5
}
