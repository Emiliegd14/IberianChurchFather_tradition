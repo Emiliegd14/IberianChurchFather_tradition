{
 "cells": [
  {
   "cell_type": "markdown",
   "metadata": {},
   "source": [
    "Code pour séparer nos données eu deux jeux de données : les oeuvres en forme versifiée et celles en prose"
   ]
  },
  {
   "cell_type": "code",
   "execution_count": 3,
   "metadata": {},
   "outputs": [
    {
     "name": "stdout",
     "output_type": "stream",
     "text": [
      "Les données ont été séparées avec succès en deux datasets - prose_dataset.xlsx et poetry_dataset.xlsx.\n"
     ]
    }
   ],
   "source": [
    "import pandas as pd\n",
    "\n",
    "df = pd.read_excel('C:\\\\Users\\\\ADMIN\\\\Desktop\\\\Ecole_des_Chartes\\\\Memoire_2\\\\manuscripts_data_2\\\\manuscripts_data_vr\\\\wits_table4.xlsx')\n",
    "prose_df = df[df['workGeneralgenre'] == 'prose']\n",
    "poetry_df = df[df['workGeneralgenre'] == 'poetry']\n",
    "\n",
    "prose_df.to_excel('C:\\\\Users\\\\ADMIN\\\\Desktop\\\\Ecole_des_Chartes\\\\Memoire_2\\\\manuscripts_data_2\\\\manuscripts_data_vr\\\\prose_dataset1.xlsx', index=False)\n",
    "poetry_df.to_excel('C:\\\\Users\\\\ADMIN\\\\Desktop\\\\Ecole_des_Chartes\\\\Memoire_2\\\\manuscripts_data_2\\\\manuscripts_data_vr\\\\poetry_dataset1.xlsx', index=False)\n",
    "\n",
    "print(\"Les données ont été séparées avec succès en deux datasets - prose_dataset.xlsx et poetry_dataset.xlsx.\")\n"
   ]
  }
 ],
 "metadata": {
  "kernelspec": {
   "display_name": "cours1GPython",
   "language": "python",
   "name": "python3"
  },
  "language_info": {
   "codemirror_mode": {
    "name": "ipython",
    "version": 3
   },
   "file_extension": ".py",
   "mimetype": "text/x-python",
   "name": "python",
   "nbconvert_exporter": "python",
   "pygments_lexer": "ipython3",
   "version": "3.12.3"
  }
 },
 "nbformat": 4,
 "nbformat_minor": 2
}
