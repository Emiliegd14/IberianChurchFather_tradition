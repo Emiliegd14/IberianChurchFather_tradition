{
 "cells": [
  {
   "cell_type": "markdown",
   "metadata": {},
   "source": [
    "Code pour calculer la diversité des oeuvres par rapport aux périodes : l'indice de Shannon."
   ]
  },
  {
   "cell_type": "code",
   "execution_count": null,
   "metadata": {},
   "outputs": [],
   "source": [
    "import pandas as pd\n",
    "import numpy as np\n",
    "from scipy.stats import entropy\n",
    "import matplotlib.pyplot as plt\n",
    "\n",
    "# Je reprends le début du même script que j'avais fait pour visualiser le nombre de manuscrits par période et par genre\n",
    "categories = {\n",
    "    'IV-VIIIe siècle': ['VIe siècle', 'VIIe siècle', 'VIIIe siècle', 'V-VIe siècle', 'VI-VIIe siècle', 'Ve-VIe siècle'],\n",
    "    'IX-XIe siècle': ['IXe siècle', 'Xe siècle', 'XIe siècle', 'VIII-IXe siècle', 'X-XIe siècle', 'IX-Xe siècle', 'IX-XIe siècle', 'VIII-Xe siècle', 'VIII-XIe siècle'],\n",
    "    'XII-XVIe siècle': ['XIIe siècle', 'XIIIe siècle', 'XIVe siècle', 'XVe siècle', 'XI-XVe  siècle', 'XI-XVe siècle', 'XII-XIIIe siècle', 'XIIIe-XIVe siècle', 'XIII-XVe siècle', 'XV-XVIe siècle', 'XIII-XIVe siècle', 'XIV-XVe siècle', 'XIIe-XIVe siècle', 'XI-XIIe siècle']\n",
    "}\n",
    "\n",
    "def assign_period(century):\n",
    "    for period, centuries in categories.items():\n",
    "        if century in centuries:\n",
    "            return period\n",
    "    return 'Non spécifié'\n",
    "\n",
    "# Fonction qui me permet de calculer la diversité de Shannon : on calcule la fréquence d'apparition de chaque oeuvre dans notre jeu de données puis on lui applique  la fonction\"entropy\" de scipy.stats (c'est l'indice de Shannon)\n",
    "def shannon_diversity(work_titles):\n",
    "    value_counts = work_titles.value_counts()\n",
    "    probabilities = value_counts / len(work_titles)\n",
    "    return entropy(probabilities)\n",
    "\n",
    "\n",
    "file_path = 'C:\\\\Users\\\\ADMIN\\\\Desktop\\\\Ecole_des_Chartes\\\\Memoire_2\\\\manuscripts_data_2\\\\manuscripts_data_vr\\\\wits_table4.xlsx'  # Remplace par le chemin de ton fichier Excel\n",
    "df = pd.read_excel(file_path)\n",
    "\n",
    "# Je filtre et garde seulement les colonnes qui me seront utiles\n",
    "df_filtered = df[['witSignature', 'Century_witOrigDate', 'workTitle']]\n",
    "\n",
    "# Je créé une nouvelle colonne \"Wits_sample\" qui attribue à chaque manuscrit sa période.\n",
    "df_filtered['Wits_sample'] = df_filtered['Century_witOrigDate'].apply(assign_period)\n",
    "\n",
    "# J'enlève de mon étude les manuscrits dont la date n'est pas spécifié : j'ai conscience que cela représentera un biais pour mes données\n",
    "df_filtered = df_filtered[df_filtered['Wits_sample'] != 'Non spécifié']\n",
    "\n",
    "# J'applique ma fonction pour chaque période de temmps\n",
    "shannon_indices = df_filtered.groupby('Wits_sample')['workTitle'].apply(shannon_diversity).reset_index()\n",
    "shannon_indices.columns = ['Wits_sample', 'Shannon_Index']\n",
    "print(shannon_indices)\n",
    "\n",
    "# Visualisation du résultat\n",
    "plt.figure(figsize=(10, 6))\n",
    "plt.plot(shannon_indices['Wits_sample'], shannon_indices['Shannon_Index'], marker='o', linestyle='-', color='b')\n",
    "plt.xlabel('Période')\n",
    "plt.ylabel('Indice de Shannon')\n",
    "plt.title('Indice de Shannon par période de temps')\n",
    "plt.xticks(rotation=45, ha='right')\n",
    "plt.tight_layout()\n",
    "plt.savefig('shannon_indices_by_period.png')\n",
    "plt.show()\n",
    "output_file_path = 'shannon_indices_by_period.xlsx'\n",
    "shannon_indices.to_excel(output_file_path, index=False)\n",
    "\n",
    "print(\"Les indices de Shannon ont été calculés, enregistrés et la courbe a été créée avec succès.\")\n"
   ]
  }
 ],
 "metadata": {
  "language_info": {
   "name": "python"
  }
 },
 "nbformat": 4,
 "nbformat_minor": 2
}
